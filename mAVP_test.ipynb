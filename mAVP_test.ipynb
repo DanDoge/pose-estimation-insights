{
 "cells": [
  {
   "cell_type": "code",
   "execution_count": 1,
   "metadata": {},
   "outputs": [],
   "source": [
    "import pickle"
   ]
  },
  {
   "cell_type": "code",
   "execution_count": 4,
   "metadata": {},
   "outputs": [],
   "source": [
    "f = pickle.load(open(\"./data/annots.pkl\", \"rb\"))"
   ]
  },
  {
   "cell_type": "code",
   "execution_count": 36,
   "metadata": {
    "scrolled": true
   },
   "outputs": [],
   "source": [
    "import numpy as np\n",
    "import os\n",
    "from scipy.io import loadmat\n",
    "from collections import OrderedDict\n",
    "objs = {}\n",
    "for label in os.listdir(\"./data/pascal3d+/Annotations\"):\n",
    "    for img_path in os.listdir(\"./data/pascal3d+/Annotations/\" + label):\n",
    "        img_path = img_path.split(\".\")[0]\n",
    "        anno_file = loadmat(\"./data/pascal3d+/Annotations/\" + label + \"/\" + img_path + \".mat\")\n",
    "        for obj in anno_file[\"record\"][\"objects\"][0][0][0]:\n",
    "            try:\n",
    "                viewpoint = int(obj[\"viewpoint\"][\"azimuth\"][0][0][0][0] // 15)\n",
    "                bbox = obj[\"bbox\"][0]\n",
    "            except:\n",
    "                continue\n",
    "            if img_path not in objs:\n",
    "                objs[img_path] = []\n",
    "            objs[img_path] = np.append(objs[img_path], {\"name\":label.split(\"_\")[0], \"viewpoint\":viewpoint, \"bbox\":bbox, \"difficult\":0})\n",
    "        "
   ]
  },
  {
   "cell_type": "code",
   "execution_count": 38,
   "metadata": {},
   "outputs": [],
   "source": [
    "pickle.dump(objs, open(\"annots_pascal.pkl\", \"wb\"))"
   ]
  },
  {
   "cell_type": "code",
   "execution_count": 32,
   "metadata": {},
   "outputs": [],
   "source": [
    "for label in os.listdir(\"./data/pascal3d+/Annotations\"):\n",
    "    with open(\"./data/pascal3d+/Imagesets/{}.txt\".format(label.split(\"_\")[0]), \"w\") as f:\n",
    "        for img_path in os.listdir(\"./data/pascal3d+/Annotations/\" + label):\n",
    "            f.write(img_path.split(\".\")[0] + ' -1\\n')\n",
    "\n",
    "        "
   ]
  },
  {
   "cell_type": "code",
   "execution_count": 33,
   "metadata": {},
   "outputs": [
    {
     "ename": "KeyError",
     "evalue": "'2008_000082'",
     "output_type": "error",
     "traceback": [
      "\u001b[1;31m---------------------------------------------------------------------------\u001b[0m",
      "\u001b[1;31mKeyError\u001b[0m                                  Traceback (most recent call last)",
      "\u001b[1;32m<ipython-input-33-eae1d5c93913>\u001b[0m in \u001b[0;36m<module>\u001b[1;34m()\u001b[0m\n\u001b[1;32m----> 1\u001b[1;33m \u001b[0mobjs\u001b[0m\u001b[1;33m[\u001b[0m\u001b[1;34m'2008_000082'\u001b[0m\u001b[1;33m]\u001b[0m\u001b[1;33m\u001b[0m\u001b[0m\n\u001b[0m",
      "\u001b[1;31mKeyError\u001b[0m: '2008_000082'"
     ]
    }
   ],
   "source": [
    "objs['2008_000082']"
   ]
  },
  {
   "cell_type": "code",
   "execution_count": null,
   "metadata": {},
   "outputs": [],
   "source": []
  }
 ],
 "metadata": {
  "kernelspec": {
   "display_name": "Python 3",
   "language": "python",
   "name": "python3"
  },
  "language_info": {
   "codemirror_mode": {
    "name": "ipython",
    "version": 3
   },
   "file_extension": ".py",
   "mimetype": "text/x-python",
   "name": "python",
   "nbconvert_exporter": "python",
   "pygments_lexer": "ipython3",
   "version": "3.7.0"
  }
 },
 "nbformat": 4,
 "nbformat_minor": 2
}
