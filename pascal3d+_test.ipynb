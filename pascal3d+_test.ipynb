{
 "cells": [
  {
   "cell_type": "code",
   "execution_count": 76,
   "metadata": {},
   "outputs": [],
   "source": [
    "import os\n",
    "from scipy.io import loadmat\n",
    "from PIL import Image\n",
    "import numpy as np\n",
    "import torch"
   ]
  },
  {
   "cell_type": "code",
   "execution_count": 2,
   "metadata": {},
   "outputs": [],
   "source": [
    "import pickle"
   ]
  },
  {
   "cell_type": "code",
   "execution_count": 4,
   "metadata": {},
   "outputs": [],
   "source": [
    "objs = pickle.load(open(\"./data/objs_pascal.pkl\", \"rb\"))"
   ]
  },
  {
   "cell_type": "code",
   "execution_count": 5,
   "metadata": {},
   "outputs": [],
   "source": [
    "import torch.utils.data as data"
   ]
  },
  {
   "cell_type": "code",
   "execution_count": 90,
   "metadata": {},
   "outputs": [],
   "source": [
    "cls = ('__background__', # always index 0\n",
    "        'aeroplane', 'bicycle', 'bird', 'boat',\n",
    "        'bottle', 'bus', 'car', 'cat', 'chair',\n",
    "        'cow', 'diningtable', 'dog', 'horse',\n",
    "        'motorbike', 'person', 'pottedplant',\n",
    "        'sheep', 'sofa', 'train', 'tvmonitor')\n",
    "\n",
    "class_to_ind = dict(zip(cls, range(len(cls))))\n",
    "\n",
    "class PasDet(data.Dataset):\n",
    "    def __init__(self, pickle_file, transform=None, target_transform=None):\n",
    "        self.objs = pickle_file\n",
    "        self.ids = list(tuple(self.objs))\n",
    "    def __getitem__(self, index):\n",
    "        img_id = self.ids[index]\n",
    "        img = Image.open('./data/pascal3d+/Images/' + self.objs[img_id][0]['label'] + '/' + img_id + '.jpg')\n",
    "        bboxes = [self.objs[img_id][0]['bbox']]\n",
    "        viewpoint = [self.objs[img_id][0]['viewpoint']]\n",
    "        labels = [class_to_ind[self.objs[img_id][0]['label'].split('_')[0]]]\n",
    "        for obj in self.objs[img_id][1:]:\n",
    "            bboxes = np.append(bboxes, obj['bbox'])\n",
    "            viewpoint = np.append(viewpoint, obj['viewpoint'])\n",
    "            labels = np.append(labels, class_to_ind[obj['label'].split('_')[0]])\n",
    "        bboxes = np.reshape(bboxes, [-1, 4]).astype(np.int64)\n",
    "        return img, {'boxes':torch.LongTensor(bboxes), 'gt_classes': labels, 'viewpoints':viewpoint, 'im_info':list(np.append(img.size, 1))}, img_id\n",
    "    def __len__(self):\n",
    "        return len(self.ids)"
   ]
  },
  {
   "cell_type": "code",
   "execution_count": 91,
   "metadata": {},
   "outputs": [],
   "source": [
    "ds = PasDet(objs)"
   ]
  },
  {
   "cell_type": "code",
   "execution_count": 92,
   "metadata": {},
   "outputs": [
    {
     "name": "stdout",
     "output_type": "stream",
     "text": [
      "5474\n"
     ]
    }
   ],
   "source": [
    "print(len(ds))"
   ]
  },
  {
   "cell_type": "code",
   "execution_count": null,
   "metadata": {},
   "outputs": [],
   "source": []
  }
 ],
 "metadata": {
  "kernelspec": {
   "display_name": "Python 3",
   "language": "python",
   "name": "python3"
  },
  "language_info": {
   "codemirror_mode": {
    "name": "ipython",
    "version": 3
   },
   "file_extension": ".py",
   "mimetype": "text/x-python",
   "name": "python",
   "nbconvert_exporter": "python",
   "pygments_lexer": "ipython3",
   "version": "3.7.0"
  }
 },
 "nbformat": 4,
 "nbformat_minor": 2
}
